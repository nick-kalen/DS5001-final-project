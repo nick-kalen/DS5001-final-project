{
 "cells": [
  {
   "cell_type": "markdown",
   "id": "d2f550d8-2645-47ac-a7be-cb8e8c5e54f1",
   "metadata": {},
   "source": [
    "# Final Report\n",
    "\n",
    "DS 5001 Spring 2023 Final Project\n",
    "\n",
    "Rachel Grace Treene\n",
    "\n",
    "rg5xm@virginia.edu"
   ]
  },
  {
   "cell_type": "markdown",
   "id": "6c968a0c-33bf-4eb9-910e-5058776679da",
   "metadata": {},
   "source": [
    "## Introduction"
   ]
  },
  {
   "cell_type": "markdown",
   "id": "0910bb88-5802-4fd6-87e1-f70ae5aff2b6",
   "metadata": {},
   "source": [
    "The corpus used for this project is the seven Harry Potter books written by J.K. Rowling. It has 1,118,267 tokens and 23,096 unique terms. The books in the corpus tell the story of Harry Potter and his adventures, culminating in an epic battle between himself and Voldemort, the evil wizard.\n",
    "\n",
    "In this project, I consider what Quidditch, the main sport played by people in the wizarding world, can tell us about the structure and similarity of the books to one another. My question is two-fold: first, what can we learn about the correlation between the books in the Harry Potter series? Second, what can we learn by comparing these observations with the prevalence and inclusion of Quidditch in the books?"
   ]
  },
  {
   "cell_type": "markdown",
   "id": "2d5746d5-0845-4517-86fb-dec502c8c8ec",
   "metadata": {},
   "source": [
    "## Source Data"
   ]
  },
  {
   "cell_type": "markdown",
   "id": "df0153e7-60ef-494a-9740-6e0b4ee5b79a",
   "metadata": {},
   "source": [
    "The data comes from text files, obtained from a GitHub repository which used the Harry Potter corpus for an NLP project.\n",
    "\n",
    "### Provenance\n",
    "\n",
    "The original text files are located at the following repository: https://github.com/ErikaJacobs/Harry-Potter-Text-Mining. A few errors were located after downloading which were fixed to ensure more accurate work could be done.\n",
    "\n",
    "### Location\n",
    "\n",
    "The slightly edited source files for this project have been added to the current GitHub repository and can be found in the data directory. The link to that directory is as follows: https://github.com/rachelgracetreene/text-analytics-final-project/tree/main/data.\n",
    "\n",
    "### Description\n",
    "\n",
    "The subject matter of the corpus is the fictional accounts of Harry Potter, a boy who is a wizard in England in the 1990s. The source files are structured in lines, where a line is an observation, and the average document length in terms of lines is 15744.57 lines. The average document length in terms of tokens is 189055.14 tokens.\n",
    "\n",
    "### Format\n",
    "\n",
    "The source files are TXT files. The data in the files is plaintext.\n",
    "\n",
    "### Data Model\n",
    "\n",
    "Processing, annotating, and analyzing the corpus produced the following tables, with the following features:\n",
    "\n",
    "Output: files produced to meet requirements of the project\n",
    "- CORPUS (https://github.com/rachelgracetreene/text-analytics-final-project/blob/main/output/CORPUS.csv)\n",
    "- LDA-PHI (https://github.com/rachelgracetreene/text-analytics-final-project/blob/main/output/LDA-PHI.csv)\n",
    "- LDA-THETA (https://github.com/rachelgracetreene/text-analytics-final-project/blob/main/output/LDA-THETA.csv)\n",
    "- LIB (https://github.com/rachelgracetreene/text-analytics-final-project/blob/main/output/LIB.csv)\n",
    "- PCA-DCM (https://github.com/rachelgracetreene/text-analytics-final-project/blob/main/output/PCA-DCM.csv)\n",
    "- PCA-LOADINGS (https://github.com/rachelgracetreene/text-analytics-final-project/blob/main/output/PCA-LOADINGS.csv)\n",
    "- SA-DOCEMOTIONS (https://github.com/rachelgracetreene/text-analytics-final-project/blob/main/output/SA-DOCEMOTIONS.csv)\n",
    "- SA-VOCAB (https://github.com/rachelgracetreene/text-analytics-final-project/blob/main/output/SA-VOCAB.csv)\n",
    "- VOCAB (https://github.com/rachelgracetreene/text-analytics-final-project/blob/main/output/VOCAB.csv)\n",
    "- W2V-VOCAB (https://github.com/rachelgracetreene/text-analytics-final-project/blob/main/output/W2V-VOCAB.csv)\n",
    "\n",
    "Output-Viz: files produced to be imported in the visualization notebook\n",
    "- DOCS (https://github.com/rachelgracetreene/text-analytics-final-project/blob/main/output-viz/DOCS.csv)\n",
    "- MT (https://github.com/rachelgracetreene/text-analytics-final-project/blob/main/output-viz/MT.csv)\n",
    "- PAIRS (https://github.com/rachelgracetreene/text-analytics-final-project/blob/main/output-viz/PAIRS.csv)\n",
    "- POS-GROUP ()\n",
    "- POS (https://github.com/rachelgracetreene/text-analytics-final-project/blob/main/output-viz/POS.csv)\n",
    "- SA-CHAPEMOTIONS ()\n",
    "\n",
    "Describe the analytical tables you generated in the process of tokenization, annotation, and analysis of your corpus. You provide a list of tables with field names and their definition, along with URLs to each associated CSV file."
   ]
  },
  {
   "cell_type": "markdown",
   "id": "949d35b9-8b44-472d-b036-929a5913ff8e",
   "metadata": {},
   "source": [
    "## Exploration"
   ]
  },
  {
   "cell_type": "markdown",
   "id": "237f2626-134f-4a83-8140-0b12dbb6b66d",
   "metadata": {},
   "source": [
    "Describe each of your explorations, such as PCA and topic models. For each, include the relevant parameters and hyperparemeters used to generate each model and visualization. For your visualizations, you should use at least three (but likely more) of the following visualization types:\n",
    "\n",
    "    Hierarchical cluster diagrams\n",
    "    Heatmaps showing correlations - yes (correlations between books)\n",
    "    Scatter plots\n",
    "    KDE plots - yes (four houses, quidditch words)\n",
    "    Dispersion plots\n",
    "    t-SNE plots - yes (quidditch cluster)"
   ]
  },
  {
   "cell_type": "markdown",
   "id": "fba4974b-3ed2-4a50-9bee-d8f58bd6cf1d",
   "metadata": {},
   "source": [
    "## Interpretation"
   ]
  },
  {
   "cell_type": "markdown",
   "id": "99115faa-d7c7-418c-9719-6ce83d5669c4",
   "metadata": {},
   "source": [
    "Provide your interpretation of the results of exploration, and any conclusion if you are comfortable making them."
   ]
  },
  {
   "cell_type": "markdown",
   "id": "fab3297f-ad13-470e-b35c-c67d978fa276",
   "metadata": {},
   "source": [
    "Harry Potter and the Philosopher's Stone:\n",
    "\n",
    "    Chapter 11: \"Quidditch\"\n",
    "    Chapter 13: \"Nicolas Flamel\"\n",
    "\n",
    "Harry Potter and the Chamber of Secrets:\n",
    "\n",
    "    Chapter 10: \"The Rogue Bludger\"\n",
    "    Chapter 14: \"Cornelius Fudge\"\n",
    "\n",
    "Harry Potter and the Prisoner of Azkaban:\n",
    "\n",
    "    Chapter 9: \"Grim Defeat\"\n",
    "    Chapter 13: \"Gryffindor versus Ravenclaw\"\n",
    "\n",
    "Harry Potter and the Goblet of Fire:\n",
    "\n",
    "    Chapter 8: \"The Quidditch World Cup\"\n",
    "\n",
    "Harry Potter and the Order of Phoenix:\n",
    "\n",
    "    Chapter 19: \"The Lion and the Serpent\"\n",
    "\n",
    "Harry Potter and the Half-Blood Prince:\n",
    "\n",
    "    Chapter 14: \"Felix Felicis\"\n",
    "    Chapter 19: \"Elf Tails\"\n",
    "    Chapter 24"
   ]
  }
 ],
 "metadata": {
  "kernelspec": {
   "display_name": "Python 3 (ipykernel)",
   "language": "python",
   "name": "python3"
  },
  "language_info": {
   "codemirror_mode": {
    "name": "ipython",
    "version": 3
   },
   "file_extension": ".py",
   "mimetype": "text/x-python",
   "name": "python",
   "nbconvert_exporter": "python",
   "pygments_lexer": "ipython3",
   "version": "3.9.12"
  }
 },
 "nbformat": 4,
 "nbformat_minor": 5
}
