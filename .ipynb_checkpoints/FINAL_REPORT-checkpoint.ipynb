{
 "cells": [
  {
   "cell_type": "markdown",
   "id": "d2f550d8-2645-47ac-a7be-cb8e8c5e54f1",
   "metadata": {},
   "source": [
    "# Final Report\n",
    "\n",
    "DS 5001 Spring 2023 Final Project\n",
    "\n",
    "Rachel Grace Treene\n",
    "\n",
    "rg5xm@virginia.edu"
   ]
  },
  {
   "cell_type": "markdown",
   "id": "6c968a0c-33bf-4eb9-910e-5058776679da",
   "metadata": {},
   "source": [
    "## Introduction"
   ]
  },
  {
   "cell_type": "markdown",
   "id": "0910bb88-5802-4fd6-87e1-f70ae5aff2b6",
   "metadata": {},
   "source": [
    "Describe the nature of your corpus and the question(s) you've asked of the data."
   ]
  },
  {
   "cell_type": "markdown",
   "id": "2d5746d5-0845-4517-86fb-dec502c8c8ec",
   "metadata": {},
   "source": [
    "## Source Data"
   ]
  },
  {
   "cell_type": "markdown",
   "id": "df0153e7-60ef-494a-9740-6e0b4ee5b79a",
   "metadata": {},
   "source": [
    "Provide a description of all relativant source files and describe the following features for each source file:\n",
    "\n",
    "### Provenance\n",
    "\n",
    "Where did they come from? Describe the website or other source and provide relevant URLs.\n",
    "\n",
    "### Location\n",
    "\n",
    "Provide a link to the source files in UVA Box.\n",
    "\n",
    "### Description\n",
    "\n",
    "What is the general subject matter of the corpus? How many observations are there? What is the average document length?\n",
    "\n",
    "### Format\n",
    "\n",
    "A description of both the file formats of the source files, e.g., plaintext, XML, CSV, etc., and the internal structure where applicable. For - example, if XML then specify document type (e.g., TEI or XHTML).\n",
    "\n",
    "### Data Model\n",
    "\n",
    "Describe the analytical tables you generated in the process of tokenization, annotation, and analysis of your corpus. You provide a list of tables with field names and their definition, along with URLs to each associated CSV file."
   ]
  },
  {
   "cell_type": "markdown",
   "id": "949d35b9-8b44-472d-b036-929a5913ff8e",
   "metadata": {},
   "source": [
    "## Exploration"
   ]
  },
  {
   "cell_type": "markdown",
   "id": "237f2626-134f-4a83-8140-0b12dbb6b66d",
   "metadata": {},
   "source": [
    "Describe each of your explorations, such as PCA and topic models. For each, include the relevant parameters and hyperparemeters used to generate each model and visualization. For your visualizations, you should use at least three (but likely more) of the following visualization types:\n",
    "\n",
    "    Hierarchical cluster diagrams\n",
    "    Heatmaps showing correlations - yes (correlations between books)\n",
    "    Scatter plots\n",
    "    KDE plots - yes (four houses, quidditch words)\n",
    "    Dispersion plots\n",
    "    t-SNE plots"
   ]
  },
  {
   "cell_type": "markdown",
   "id": "fba4974b-3ed2-4a50-9bee-d8f58bd6cf1d",
   "metadata": {},
   "source": [
    "## Interpretation"
   ]
  },
  {
   "cell_type": "markdown",
   "id": "99115faa-d7c7-418c-9719-6ce83d5669c4",
   "metadata": {},
   "source": [
    "Provide your interpretation of the results of exploration, and any conclusion if you are comfortable making them."
   ]
  },
  {
   "cell_type": "markdown",
   "id": "fab3297f-ad13-470e-b35c-c67d978fa276",
   "metadata": {},
   "source": [
    "Harry Potter and the Philosopher's Stone:\n",
    "\n",
    "    Chapter 11: \"Quidditch\"\n",
    "    Chapter 13: \"Nicolas Flamel\"\n",
    "\n",
    "Harry Potter and the Chamber of Secrets:\n",
    "\n",
    "    Chapter 10: \"The Rogue Bludger\"\n",
    "    Chapter 14: \"Cornelius Fudge\"\n",
    "\n",
    "Harry Potter and the Prisoner of Azkaban:\n",
    "\n",
    "    Chapter 9: \"Grim Defeat\"\n",
    "    Chapter 13: \"Gryffindor versus Ravenclaw\"\n",
    "\n",
    "Harry Potter and the Goblet of Fire:\n",
    "\n",
    "    Chapter 8: \"The Quidditch World Cup\"\n",
    "    Chapter 19: \"The Hungarian Horntail\"\n",
    "\n",
    "Harry Potter and the Order of Phoenix:\n",
    "\n",
    "    Chapter 19: \"The Lion and the Serpent\"\n",
    "    Chapter 29: \"Careers Advice\"\n",
    "\n",
    "Harry Potter and the Half-Blood Prince:\n",
    "\n",
    "    Chapter 14: \"Felix Felicis\"\n",
    "    Chapter 19: \"Elf Tails\"\n",
    "\n",
    "Harry Potter and the Deathly Hallows:\n",
    "\n",
    "    Chapter 6: \"The Ghoul in Pajamas\"\n",
    "    Chapter 9: \"A Place to Hide\""
   ]
  }
 ],
 "metadata": {
  "kernelspec": {
   "display_name": "Python 3 (ipykernel)",
   "language": "python",
   "name": "python3"
  },
  "language_info": {
   "codemirror_mode": {
    "name": "ipython",
    "version": 3
   },
   "file_extension": ".py",
   "mimetype": "text/x-python",
   "name": "python",
   "nbconvert_exporter": "python",
   "pygments_lexer": "ipython3",
   "version": "3.9.12"
  }
 },
 "nbformat": 4,
 "nbformat_minor": 5
}
